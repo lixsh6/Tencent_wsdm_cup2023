{
 "cells": [
  {
   "cell_type": "markdown",
   "id": "f842f3f0-16b9-4867-8bf1-e7f32cfcde94",
   "metadata": {},
   "source": [
    "## This notebook aims to use the best parameters to ensemble multiple models to generate the final scores.\n"
   ]
  },
  {
   "cell_type": "code",
   "execution_count": 1,
   "id": "e08e2af5-7db4-4ea7-8ce2-08115610e88d",
   "metadata": {},
   "outputs": [],
   "source": [
    "valid_sparse_feat_addr = './features/sparse_features/annotation_data_0522.sparse.feat.undup'#.undup\n",
    "test_sparse_feat_addr = './features/sparse_features/wsdm_test_2_all.sparse.feat.undup'"
   ]
  },
  {
   "cell_type": "code",
   "execution_count": 2,
   "id": "30715967-a53c-42c3-ab23-ad2485ff3105",
   "metadata": {},
   "outputs": [],
   "source": [
    "def get_bert_feat_addr(model_index, data_type):\n",
    "    prefix = 'validation.' if data_type == 'valid' else ''\n",
    "    addr = f'./features/bert_features/model{model_index}/{prefix}result.csv'\n",
    "    return addr"
   ]
  },
  {
   "cell_type": "code",
   "execution_count": 3,
   "id": "dbf65de6-42f0-4534-8f06-ed76d5ddc948",
   "metadata": {},
   "outputs": [],
   "source": [
    "import numpy as np\n",
    "import pandas as pd\n",
    "from tqdm.auto import tqdm\n",
    "from pandas import DataFrame\n",
    "from collections import defaultdict"
   ]
  },
  {
   "cell_type": "code",
   "execution_count": 4,
   "id": "619bf3f8-812d-4d27-afe3-0c6585ca0cd4",
   "metadata": {},
   "outputs": [],
   "source": [
    "def load_as_csv(data_addr, size, with_label=True):\n",
    "    data = {'label':[], 'qid':[] }\n",
    "    data.update({f'f{i+1}':[] for i in range(size)})\n",
    "    for line in tqdm(open(data_addr)):\n",
    "        splits = line.strip().split()\n",
    "        label = splits[0]\n",
    "        qid = splits[1].split(':')[1]\n",
    "        data['label'].append(int(label))\n",
    "        data['qid'].append(int(qid))\n",
    "        for i,f in list(map(lambda s:s.split(':'), splits[2:])):\n",
    "            data[f'f{i}'].append(float(f))\n",
    "\n",
    "    return DataFrame(data)\n",
    "            \n",
    "    "
   ]
  },
  {
   "cell_type": "code",
   "execution_count": 5,
   "id": "75fe7ee5-14e2-4f06-ba40-696290511951",
   "metadata": {},
   "outputs": [],
   "source": [
    "def get_merge_feat_csv(sparse_feat_addr, *args):\n",
    "    data = [[] for i in range(len(args))]\n",
    "    for i,addr in enumerate(args):\n",
    "        for line in open(addr):\n",
    "            data[i].append(float(line.strip()))\n",
    "\n",
    "    df = defaultdict(list)\n",
    "    df.update({f'f{i+1}':[] for i in range(6)})\n",
    "    for i,line in enumerate(open(sparse_feat_addr)):\n",
    "        splits = line.strip().split()\n",
    "        label = splits[0]\n",
    "        qid = splits[1].split(':')[1]\n",
    "        if '.' in qid:\n",
    "            print(splits)\n",
    "            break\n",
    "        df['label'].append(int(label))\n",
    "        df['qid'].append(int(qid))\n",
    "        for j,f in list(map(lambda s:s.split(':'), splits[2:])):\n",
    "            df[f'f{j}'].append(float(f))\n",
    "        for idx in range(len(data)):\n",
    "            df[f'f{6 + idx + 1}'].append(data[idx][i])\n",
    "    return DataFrame(df)\n",
    "    \n",
    "                              "
   ]
  },
  {
   "cell_type": "code",
   "execution_count": 6,
   "id": "1f93df93-d732-474f-99bd-c72559a9cc9b",
   "metadata": {},
   "outputs": [],
   "source": [
    "feat_addrs = [get_bert_feat_addr(i, 'valid') for i in [1,2,3,4,6]]\n",
    "all_data_df = get_merge_feat_csv(valid_sparse_feat_addr,*feat_addrs)"
   ]
  },
  {
   "cell_type": "code",
   "execution_count": 7,
   "id": "ae36b564-be3a-4758-ac73-7e30a3907fb0",
   "metadata": {},
   "outputs": [],
   "source": [
    "import lightgbm\n",
    "\n",
    "def prepare_data(df):\n",
    "    qids_group = df.groupby(\"qid\")[\"qid\"].count().to_numpy()\n",
    "    X_train = df.drop([\"qid\", \"label\"], axis = 1)\n",
    "    # Relevance label for train\n",
    "    y_train = df['label'].astype(int)\n",
    "    return X_train, y_train, qids_group\n"
   ]
  },
  {
   "cell_type": "code",
   "execution_count": 8,
   "id": "cead5e0d-aebb-4d62-a65f-c3c23f926324",
   "metadata": {},
   "outputs": [],
   "source": [
    "final_x_train, final_y_train, final_qids_groups = prepare_data(all_data_df)"
   ]
  },
  {
   "cell_type": "code",
   "execution_count": 9,
   "id": "9eabdd87-fa9a-4041-b487-47f3ff57d506",
   "metadata": {},
   "outputs": [
    {
     "name": "stdout",
     "output_type": "stream",
     "text": [
      "[1]\ttraining's ndcg@10: 0.733475\n",
      "[2]\ttraining's ndcg@10: 0.78221\n",
      "[3]\ttraining's ndcg@10: 0.787102\n",
      "[4]\ttraining's ndcg@10: 0.792092\n",
      "[5]\ttraining's ndcg@10: 0.79305\n",
      "[6]\ttraining's ndcg@10: 0.794052\n",
      "[7]\ttraining's ndcg@10: 0.795837\n",
      "[8]\ttraining's ndcg@10: 0.796309\n",
      "[9]\ttraining's ndcg@10: 0.796617\n",
      "[10]\ttraining's ndcg@10: 0.797144\n",
      "[11]\ttraining's ndcg@10: 0.797554\n",
      "[12]\ttraining's ndcg@10: 0.797483\n",
      "[13]\ttraining's ndcg@10: 0.797929\n",
      "[14]\ttraining's ndcg@10: 0.797977\n",
      "[15]\ttraining's ndcg@10: 0.797987\n",
      "[16]\ttraining's ndcg@10: 0.798464\n",
      "[17]\ttraining's ndcg@10: 0.798998\n",
      "[18]\ttraining's ndcg@10: 0.798595\n",
      "[19]\ttraining's ndcg@10: 0.799123\n",
      "[20]\ttraining's ndcg@10: 0.799007\n",
      "[21]\ttraining's ndcg@10: 0.799397\n",
      "[22]\ttraining's ndcg@10: 0.799296\n",
      "[23]\ttraining's ndcg@10: 0.799203\n",
      "[24]\ttraining's ndcg@10: 0.799111\n",
      "[25]\ttraining's ndcg@10: 0.799334\n",
      "[26]\ttraining's ndcg@10: 0.799282\n",
      "[27]\ttraining's ndcg@10: 0.799249\n",
      "[28]\ttraining's ndcg@10: 0.799517\n",
      "[29]\ttraining's ndcg@10: 0.799478\n",
      "[30]\ttraining's ndcg@10: 0.799838\n",
      "[31]\ttraining's ndcg@10: 0.799587\n",
      "[32]\ttraining's ndcg@10: 0.799724\n",
      "[33]\ttraining's ndcg@10: 0.799755\n",
      "[34]\ttraining's ndcg@10: 0.799904\n",
      "[35]\ttraining's ndcg@10: 0.800099\n",
      "[36]\ttraining's ndcg@10: 0.800227\n",
      "[37]\ttraining's ndcg@10: 0.800119\n",
      "[38]\ttraining's ndcg@10: 0.800237\n",
      "[39]\ttraining's ndcg@10: 0.800474\n",
      "[40]\ttraining's ndcg@10: 0.800414\n",
      "[41]\ttraining's ndcg@10: 0.800487\n",
      "[42]\ttraining's ndcg@10: 0.800698\n",
      "[43]\ttraining's ndcg@10: 0.80058\n",
      "[44]\ttraining's ndcg@10: 0.800648\n",
      "[45]\ttraining's ndcg@10: 0.800678\n",
      "[46]\ttraining's ndcg@10: 0.800633\n",
      "[47]\ttraining's ndcg@10: 0.800661\n",
      "[48]\ttraining's ndcg@10: 0.800654\n",
      "[49]\ttraining's ndcg@10: 0.800715\n",
      "[50]\ttraining's ndcg@10: 0.800789\n",
      "[51]\ttraining's ndcg@10: 0.800796\n",
      "[52]\ttraining's ndcg@10: 0.800893\n",
      "[53]\ttraining's ndcg@10: 0.801095\n",
      "[54]\ttraining's ndcg@10: 0.80119\n",
      "[55]\ttraining's ndcg@10: 0.801171\n",
      "[56]\ttraining's ndcg@10: 0.801159\n",
      "[57]\ttraining's ndcg@10: 0.801162\n",
      "[58]\ttraining's ndcg@10: 0.801207\n",
      "[59]\ttraining's ndcg@10: 0.801166\n",
      "[60]\ttraining's ndcg@10: 0.801174\n",
      "[61]\ttraining's ndcg@10: 0.801162\n",
      "[62]\ttraining's ndcg@10: 0.801058\n",
      "[63]\ttraining's ndcg@10: 0.801099\n",
      "[64]\ttraining's ndcg@10: 0.801105\n",
      "[65]\ttraining's ndcg@10: 0.801333\n",
      "[66]\ttraining's ndcg@10: 0.801261\n",
      "[67]\ttraining's ndcg@10: 0.801473\n",
      "[68]\ttraining's ndcg@10: 0.801416\n",
      "[69]\ttraining's ndcg@10: 0.801691\n",
      "[70]\ttraining's ndcg@10: 0.801769\n",
      "[71]\ttraining's ndcg@10: 0.80174\n",
      "[72]\ttraining's ndcg@10: 0.801794\n",
      "[73]\ttraining's ndcg@10: 0.801952\n",
      "[74]\ttraining's ndcg@10: 0.801941\n",
      "[75]\ttraining's ndcg@10: 0.801902\n",
      "[76]\ttraining's ndcg@10: 0.801964\n",
      "[77]\ttraining's ndcg@10: 0.80209\n",
      "[78]\ttraining's ndcg@10: 0.802073\n",
      "[79]\ttraining's ndcg@10: 0.802133\n",
      "[80]\ttraining's ndcg@10: 0.802142\n",
      "[81]\ttraining's ndcg@10: 0.802049\n",
      "[82]\ttraining's ndcg@10: 0.802191\n",
      "[83]\ttraining's ndcg@10: 0.80229\n",
      "[84]\ttraining's ndcg@10: 0.802163\n",
      "[85]\ttraining's ndcg@10: 0.802287\n",
      "[86]\ttraining's ndcg@10: 0.802305\n",
      "[87]\ttraining's ndcg@10: 0.802302\n",
      "[88]\ttraining's ndcg@10: 0.802448\n",
      "[89]\ttraining's ndcg@10: 0.802549\n",
      "[90]\ttraining's ndcg@10: 0.802628\n",
      "[91]\ttraining's ndcg@10: 0.802562\n",
      "[92]\ttraining's ndcg@10: 0.802701\n",
      "[93]\ttraining's ndcg@10: 0.802716\n",
      "[94]\ttraining's ndcg@10: 0.802833\n",
      "[95]\ttraining's ndcg@10: 0.802911\n",
      "[96]\ttraining's ndcg@10: 0.802875\n",
      "[97]\ttraining's ndcg@10: 0.802862\n",
      "[98]\ttraining's ndcg@10: 0.802876\n",
      "[99]\ttraining's ndcg@10: 0.802963\n",
      "[100]\ttraining's ndcg@10: 0.802981\n"
     ]
    },
    {
     "data": {
      "text/plain": [
       "LGBMRanker(importance_type='gain', learning_rate=0.05, metric='ndcg',\n",
       "           num_leaves=10, objective='lambdarank')"
      ]
     },
     "execution_count": 9,
     "metadata": {},
     "output_type": "execute_result"
    }
   ],
   "source": [
    "ranker = lightgbm.LGBMRanker(\n",
    "                    objective=\"lambdarank\",\n",
    "                    boosting_type = \"gbdt\",\n",
    "                    n_estimators = 100,\n",
    "                    importance_type = \"gain\",\n",
    "                    metric= \"ndcg\",\n",
    "                    num_leaves = 10,\n",
    "                    learning_rate = 0.05,\n",
    "                    max_depth = -1,)#If random_state is None, default seeds in C++ code are used.\n",
    "ranker.fit(\n",
    "      X=final_x_train,\n",
    "      y=final_y_train,\n",
    "      group=final_qids_groups,\n",
    "      eval_set=[(final_x_train, final_y_train),],\n",
    "      eval_group=[final_qids_groups, ],\n",
    "      eval_at=[10])"
   ]
  },
  {
   "cell_type": "code",
   "execution_count": 10,
   "id": "623ba319-57c9-42b8-96e6-ae8e26f84de0",
   "metadata": {},
   "outputs": [
    {
     "data": {
      "text/plain": [
       "<AxesSubplot:title={'center':'Feature importance'}, xlabel='Feature importance', ylabel='Features'>"
      ]
     },
     "execution_count": 10,
     "metadata": {},
     "output_type": "execute_result"
    },
    {
     "data": {
      "image/png": "[encoded data removed]",
      "text/plain": [
       "<Figure size 864x576 with 1 Axes>"
      ]
     },
     "metadata": {
      "needs_background": "light"
     },
     "output_type": "display_data"
    }
   ],
   "source": [
    "lightgbm.plot_importance(ranker, figsize = (12,8))"
   ]
  },
  {
   "cell_type": "code",
   "execution_count": 12,
   "id": "eb94a133-b652-4dc6-8729-f414d02e2e1c",
   "metadata": {},
   "outputs": [],
   "source": [
    "feat_addrs = [get_bert_feat_addr(i, 'test') for i in [1,2,3,4,6]]\n",
    "all_test_data_df = get_merge_feat_csv(test_sparse_feat_addr,*feat_addrs)"
   ]
  },
  {
   "cell_type": "code",
   "execution_count": 14,
   "id": "06b5e83b-11cd-4c71-b6e3-1a1294face11",
   "metadata": {},
   "outputs": [],
   "source": [
    "final_x_test, final_y_test, final_test_qids_groups = prepare_data(all_test_data_df)"
   ]
  },
  {
   "cell_type": "code",
   "execution_count": 15,
   "id": "c1781df7-9517-42b3-9f4f-5063871adc14",
   "metadata": {},
   "outputs": [],
   "source": [
    "scores = ranker.predict(final_x_test)"
   ]
  },
  {
   "cell_type": "code",
   "execution_count": 18,
   "id": "f5b6579b-993d-4527-b389-287c78fd0d48",
   "metadata": {},
   "outputs": [],
   "source": [
    "with open('./features/final_result.csv', 'w') as fout:\n",
    "    for s in scores:\n",
    "        fout.write(f\"{s}\\n\")"
   ]
  },
  {
   "cell_type": "code",
   "execution_count": 19,
   "id": "1309a606-1fa9-48c4-bf52-aae5080dc9e7",
   "metadata": {},
   "outputs": [
    {
     "data": {
      "text/plain": [
       "array([ 1.80103392, -3.95720269, -2.45329216, ...,  0.74541848,\n",
       "        0.76744129,  0.07373201])"
      ]
     },
     "execution_count": 19,
     "metadata": {},
     "output_type": "execute_result"
    }
   ],
   "source": [
    "scores"
   ]
  },
  {
   "cell_type": "code",
   "execution_count": null,
   "id": "f0432907-ee79-4571-bebc-75fe699674b6",
   "metadata": {},
   "outputs": [],
   "source": []
  }
 ],
 "metadata": {
  "kernelspec": {
   "display_name": "Python 3 (ipykernel)",
   "language": "python",
   "name": "python3"
  },
  "language_info": {
   "codemirror_mode": {
    "name": "ipython",
    "version": 3
   },
   "file_extension": ".py",
   "mimetype": "text/x-python",
   "name": "python",
   "nbconvert_exporter": "python",
   "pygments_lexer": "ipython3",
   "version": "3.7.11"
  }
 },
 "nbformat": 4,
 "nbformat_minor": 5
}